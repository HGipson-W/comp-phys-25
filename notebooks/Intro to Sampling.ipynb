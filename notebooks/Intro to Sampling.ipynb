{
 "cells": [
  {
   "cell_type": "code",
   "execution_count": 36,
   "metadata": {},
   "outputs": [],
   "source": [
    "import numpy as np\n",
    "import pandas as pd\n",
    "\n",
    "import matplotlib.pyplot as plt"
   ]
  },
  {
   "cell_type": "code",
   "execution_count": null,
   "metadata": {},
   "outputs": [],
   "source": [
    "from scipy.stats.distributions import norm\n",
    "\n",
    "from ipywidgets import interact, interactive, fixed, interact_manual\n",
    "import ipywidgets as widgets"
   ]
  },
  {
   "cell_type": "markdown",
   "metadata": {},
   "source": [
    "### Normal Distribution\n",
    "\n",
    "Recall the probability density function of the normal distribution:\n",
    "\n",
    "$$\n",
    "p(x|\\mu, \\sigma) = \\frac{1}{\\sqrt{2\\pi\\sigma^2}} e ^{-(x - \\mu)^2/(2\\sigma^2)}.\n",
    "$$\n",
    "\n",
    "In other words, given some properties of the distribution, the mean $\\mu$ and the standard deviation $\\sigma$, the function above described the probability *density* as a function of parameter $x\\in(-\\infty, \\infty)$.\n",
    "\n",
    "So if we want to look at what this distribution looks like a function of $x$, we can just evaluate this function at a bunch of $x$ values and plot it."
   ]
  },
  {
   "cell_type": "code",
   "execution_count": null,
   "metadata": {},
   "outputs": [],
   "source": [
    "def pdf(x, mu=10, sigma=2.):\n",
    "    return 1/np.sqrt(2*np.pi*sigma**2) * np.exp(-(x - mu)**2/(2*sigma**2))"
   ]
  },
  {
   "cell_type": "code",
   "execution_count": null,
   "metadata": {},
   "outputs": [],
   "source": []
  },
  {
   "cell_type": "code",
   "execution_count": null,
   "metadata": {},
   "outputs": [],
   "source": []
  },
  {
   "cell_type": "markdown",
   "metadata": {},
   "source": [
    "What if we didn't know the function form of the probability density function?  If we had a method of draws samples from the distribution, we can look at the distribution of those samples to get an idea of the shape of the probability density function."
   ]
  },
  {
   "cell_type": "code",
   "execution_count": null,
   "metadata": {},
   "outputs": [],
   "source": []
  },
  {
   "cell_type": "code",
   "execution_count": null,
   "metadata": {},
   "outputs": [],
   "source": []
  },
  {
   "cell_type": "markdown",
   "metadata": {},
   "source": [
    "The more samples we have, the better we estimate the distribution."
   ]
  },
  {
   "cell_type": "code",
   "execution_count": null,
   "metadata": {},
   "outputs": [],
   "source": []
  },
  {
   "cell_type": "code",
   "execution_count": null,
   "metadata": {},
   "outputs": [],
   "source": []
  },
  {
   "cell_type": "markdown",
   "metadata": {},
   "source": [
    "# Monte Carlo Methods\n",
    "\n",
    "Monte Carlo methods use randomness to solve problems, typically for optimization, numerical integration, and generating samples from a probability distribution.  The name originates from their first use in solving problems in the Monte Carlo Casino in Monaco.\n",
    "\n",
    "Generally the process goes like:\n",
    "1. Define a domain of valid inputs.\n",
    "1. Generate inputs from some probability distribution randomly over the domain.\n",
    "1. Perform a deterministic computation of the outputs.\n",
    "1. Collect the results.\n",
    "\n",
    "### Coin Flipping\n",
    "As a simple example, let's make a biased coin and perform some flips to determine its bias.\n"
   ]
  },
  {
   "cell_type": "code",
   "execution_count": null,
   "metadata": {},
   "outputs": [],
   "source": []
  },
  {
   "cell_type": "code",
   "execution_count": null,
   "metadata": {},
   "outputs": [],
   "source": []
  },
  {
   "cell_type": "markdown",
   "metadata": {},
   "source": [
    "The fraction of `True` outcomes gives us an estimate of the bias."
   ]
  },
  {
   "cell_type": "code",
   "execution_count": null,
   "metadata": {},
   "outputs": [],
   "source": []
  },
  {
   "cell_type": "markdown",
   "metadata": {},
   "source": [
    "### Estimate $\\pi$\n",
    "\n",
    "We can use Monte Carlo methods to estimate $\\pi$ using uniform random numbers.  Think about throwing darts at a unit square dart board with a quadrant inscribed on it."
   ]
  },
  {
   "cell_type": "code",
   "execution_count": 37,
   "metadata": {},
   "outputs": [
    {
     "data": {
      "image/png": "[encoded data removed]",
      "text/plain": [
       "<Figure size 640x480 with 1 Axes>"
      ]
     },
     "metadata": {},
     "output_type": "display_data"
    }
   ],
   "source": [
    "def plot_dart_board(darts=None):\n",
    "    plt.vlines([0, 1], 0, 1)\n",
    "    plt.hlines([0, 1], 0, 1)\n",
    "\n",
    "    xs = np.linspace(0, 1, 100)\n",
    "    plt.plot(xs, np.sqrt(1-xs**2), color='r')\n",
    "\n",
    "    if darts is not None:\n",
    "        inside = np.sum(darts**2, axis=1) < 1.\n",
    "        plt.scatter(darts[inside, 0], darts[inside, 1], color='r', s=1)\n",
    "        plt.scatter(darts[~inside, 0], darts[~inside, 1], color='b', s=1)\n",
    "    plt.xlim(-.1, 1.1)\n",
    "\n",
    "plot_dart_board()"
   ]
  },
  {
   "cell_type": "code",
   "execution_count": null,
   "metadata": {},
   "outputs": [],
   "source": []
  },
  {
   "cell_type": "markdown",
   "metadata": {},
   "source": [
    "## Rejection Sampling"
   ]
  },
  {
   "cell_type": "markdown",
   "metadata": {},
   "source": [
    "Now let's explore ways to generate samples from a distribution when we only know the functional form of its PDF.  Rejection sampling is one approach.\n",
    "\n",
    "We'll refer to the target distribution that we want to draw samples from as $p(x)$. We can use another distribution $g(x)$ that we *can* draw samples from (whose PDF encompases the whole target distribution after rescaling by some value $k$) to draw samples from the target distribution.\n",
    "\n",
    "We do so by drawing a sample $z$ from our sampling distribution.  We then generate a random number $u$ unifomly between 0 and $k*g(z)$.  If $u \\leq p(z)$ the we save the sample."
   ]
  },
  {
   "cell_type": "code",
   "execution_count": null,
   "metadata": {},
   "outputs": [],
   "source": [
    "import seaborn as sns"
   ]
  },
  {
   "cell_type": "code",
   "execution_count": null,
   "metadata": {},
   "outputs": [],
   "source": []
  },
  {
   "cell_type": "code",
   "execution_count": null,
   "metadata": {},
   "outputs": [],
   "source": []
  },
  {
   "cell_type": "code",
   "execution_count": null,
   "metadata": {},
   "outputs": [],
   "source": []
  },
  {
   "cell_type": "code",
   "execution_count": null,
   "metadata": {},
   "outputs": [],
   "source": []
  },
  {
   "cell_type": "markdown",
   "metadata": {},
   "source": [
    "Now let's sample a slightly more complex distribution.  We'll also switch to a normal sampling distribution."
   ]
  },
  {
   "cell_type": "code",
   "execution_count": null,
   "metadata": {},
   "outputs": [],
   "source": []
  },
  {
   "cell_type": "code",
   "execution_count": null,
   "metadata": {},
   "outputs": [],
   "source": []
  },
  {
   "cell_type": "code",
   "execution_count": null,
   "metadata": {},
   "outputs": [],
   "source": []
  },
  {
   "cell_type": "code",
   "execution_count": null,
   "metadata": {},
   "outputs": [],
   "source": []
  },
  {
   "cell_type": "code",
   "execution_count": null,
   "metadata": {},
   "outputs": [],
   "source": []
  },
  {
   "cell_type": "markdown",
   "metadata": {},
   "source": [
    "# Importance Sampling\n",
    "\n",
    "Let's say we are interested in estimating the expectation for some function of our parameter $h(\\theta)$ after observing some data $y$, $\\mathrm{E}(h(\\theta)|y)$, but we can't draw random values of $\\theta$ directly from $p(\\theta|y)$, but we _can_ draw samples of $\\theta$ from some other probability density function $g(\\theta)$.\n",
    "\n",
    "Since we often don't have a normalized posterior density function, we'll use the convention of $q(\\theta|y)$ to refer to an unnormalized PDF, where $q(\\theta|y) \\propto p(\\theta|y)$.  In this case:\n",
    "\n",
    "$$\n",
    "E(h(\\theta)|y) = \\int h(\\theta) p(\\theta|y)d\\theta = \\frac{\\int h(\\theta)q(\\theta|y) d\\theta}{\\int q(\\theta|y)d\\theta}\n",
    "$$\n",
    "\n",
    "Putting in some factors of $1$...\n",
    "\n",
    "$$\n",
    "E(h(\\theta)|y) = \\frac{\\int \\left[ h(\\theta)q(\\theta|y)/g(\\theta)\\right] g(\\theta)d\\theta}{\\int \\left[q(\\theta|y)/g(\\theta)\\right]g(\\theta)d\\theta}\n",
    "$$\n",
    "\n",
    "Which we can estimate with $S$ draws $\\theta^1, \\dots, \\theta^S$ from $g(\\theta)$\n",
    "\n",
    "$$\n",
    "E(h(\\theta)|y) = \\frac{\\frac{1}{S}\\sum_{s=1}^S h(\\theta^s) w(\\theta^s)}{\\frac{1}{S}\\sum_{s=1}^S w(\\theta^s)}\n",
    "$$\n",
    "\n",
    "where\n",
    "\n",
    "$$\n",
    "w(\\theta^s) = \\frac{q(\\theta^s|y)}{g(\\theta^s)}\n",
    "$$\n",
    "\n",
    "are refered to as the _importance weights_.\n",
    "\n",
    "Let's estimate the expactation value of $\\theta$ (i.e., $h(\\theta)=\\theta$) from the last example we explored with rejection sampling."
   ]
  },
  {
   "cell_type": "code",
   "execution_count": null,
   "metadata": {},
   "outputs": [],
   "source": []
  },
  {
   "cell_type": "code",
   "execution_count": null,
   "metadata": {},
   "outputs": [],
   "source": []
  },
  {
   "cell_type": "code",
   "execution_count": null,
   "metadata": {},
   "outputs": [],
   "source": []
  },
  {
   "cell_type": "markdown",
   "metadata": {},
   "source": [
    "Let's compare that to the mean of the samples we drew using rejection sampling."
   ]
  },
  {
   "cell_type": "code",
   "execution_count": null,
   "metadata": {},
   "outputs": [],
   "source": []
  },
  {
   "cell_type": "markdown",
   "metadata": {},
   "source": [
    "# Markov Chain Monte Carlo (MCMC)"
   ]
  },
  {
   "cell_type": "markdown",
   "metadata": {},
   "source": [
    "# Metropolis algorithm\n",
    "\n",
    "Here we're going to build a simple Metroplis sampler, and use it to draw samples from a target distribution.\n",
    "\n",
    "The algorithm works in the following way:\n",
    "1. The chain is at location $x$\n",
    "1. A new location $x'$ is drawn from a proposal distribution $q(x)$, which we'll use $q(x)\\sim \\mathcal{N}(x, \\sigma)$.\n",
    "1. The ratio of the target probability density at the proposed location to the current location is calculated, $\\alpha = \\frac{p(x')}{p(x)}$.\n",
    "1. If $\\alpha>1$ the jump is accepted, if $\\alpha<1$ it's accepted with a probability of $\\alpha$.  If a jump is rejected the current sample $x$ is repeated in the chain."
   ]
  },
  {
   "cell_type": "code",
   "execution_count": null,
   "metadata": {},
   "outputs": [],
   "source": []
  },
  {
   "cell_type": "code",
   "execution_count": null,
   "metadata": {},
   "outputs": [],
   "source": []
  },
  {
   "cell_type": "code",
   "execution_count": null,
   "metadata": {},
   "outputs": [],
   "source": []
  },
  {
   "cell_type": "markdown",
   "metadata": {},
   "source": [
    "What's left looks like it's fairly uncorrelated, which is what we're looking for.  There are still correlations in the chain that, strictly speaking, should be dealt with (by thinning out the chain), but we'll call this good enough for our purprose, and take a look at the histogram, which gives us an idea of target distribution."
   ]
  },
  {
   "cell_type": "code",
   "execution_count": null,
   "metadata": {},
   "outputs": [],
   "source": []
  }
 ],
 "metadata": {
  "kernelspec": {
   "display_name": "comp-phys",
   "language": "python",
   "name": "python3"
  },
  "language_info": {
   "codemirror_mode": {
    "name": "ipython",
    "version": 3
   },
   "file_extension": ".py",
   "mimetype": "text/x-python",
   "name": "python",
   "nbconvert_exporter": "python",
   "pygments_lexer": "ipython3",
   "version": "3.11.11"
  }
 },
 "nbformat": 4,
 "nbformat_minor": 4
}
