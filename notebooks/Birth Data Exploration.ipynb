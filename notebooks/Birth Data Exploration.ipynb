{
 "cells": [
  {
   "attachments": {},
   "cell_type": "markdown",
   "metadata": {},
   "source": [
    "# US SSA Birth Data\n",
    "\n",
    "We're going to explore some data on births in the US from the US Social Security Administration. The data we'll be using was curated by [FiveThirtyEight](https://github.com/fivethirtyeight/data/tree/master/births).\n",
    "\n",
    "The data is already in this repository in the `data` directory, but you could also download it from [here](https://raw.githubusercontent.com/fivethirtyeight/data/master/births/US_births_2000-2014_SSA.csv).\n",
    "\n",
    "```bash\n",
    "mkdir -p ../data\n",
    "wget -qO ../data/US_births_2000-2014_SSA.csv https://raw.githubusercontent.com/fivethirtyeight/data/master/births/US_births_2000-2014_SSA.csv\n",
    "```\n",
    "\n",
    "To get started we'll have to figure out how to read the data contained in the comma separated value (CSV) file."
   ]
  },
  {
   "attachments": {},
   "cell_type": "markdown",
   "metadata": {},
   "source": [
    "## Environment\n",
    "\n",
    "I highly encourage you to use [miniconda](https://docs.conda.io/en/latest/miniconda.html) to manage your python environment (which plays nicely with [VSCode](https://code.visualstudio.com/download)).  Follow the instructions to install miniconda, which will set you up with the `conda` command line tool for managing your environments.\n",
    "\n",
    "You can use `requirements.txt` in this repository to set up an environment with the packages we need.  To do so, open a terminal window, navigate to the base directory of the repository, and run\n",
    "\n",
    "```bash\n",
    "conda create -n births python=3.10 pip\n",
    "```\n",
    "\n",
    "This creates an environment called `births` running python version 3.10, with `pip` installed.  Now activate that environment and install the required packages within it:\n",
    "\n",
    "```bash\n",
    "conda activate births\n",
    "pip install -r requirements.txt\n",
    "```"
   ]
  },
  {
   "attachments": {},
   "cell_type": "markdown",
   "metadata": {},
   "source": [
    "## I/O with `pandas`\n",
    "\n",
    "We'll be using `pandas` to read the CSV file and manage data.  I'm going to assume you're using a `conda` environment with `pandas`, `numpy`, `matplotlib`, and `seaborn` installed.  If you're using a different environment, you may have to install some things (e.g., using `pip`)."
   ]
  },
  {
   "cell_type": "code",
   "execution_count": null,
   "metadata": {},
   "outputs": [],
   "source": [
    "import pandas as pd"
   ]
  },
  {
   "cell_type": "code",
   "execution_count": null,
   "metadata": {},
   "outputs": [],
   "source": []
  },
  {
   "attachments": {},
   "cell_type": "markdown",
   "metadata": {},
   "source": [
    "The `read_csv()` function automatically parses the column names and assigns proper data types to the columns, returning a `DataFrame` object.  Please read [the docs](https://pandas.pydata.org/docs/reference/api/pandas.DataFrame.html) to learn all the gory details about `DataFrames`."
   ]
  },
  {
   "attachments": {},
   "cell_type": "markdown",
   "metadata": {},
   "source": [
    "## Plotting\n",
    "\n",
    "`matplotlib` is going to be our go-to plotting library.  We'll also make use of some domain-specific plotting libraries like `seaborn`, `arviz`, etc. throughout the term, many of which are built on top of `matplotlib`."
   ]
  },
  {
   "cell_type": "code",
   "execution_count": null,
   "metadata": {},
   "outputs": [],
   "source": [
    "import matplotlib.pyplot as plt"
   ]
  },
  {
   "attachments": {},
   "cell_type": "markdown",
   "metadata": {},
   "source": [
    "First we'll make a simple histogram."
   ]
  },
  {
   "cell_type": "code",
   "execution_count": null,
   "metadata": {},
   "outputs": [],
   "source": []
  },
  {
   "attachments": {},
   "cell_type": "markdown",
   "metadata": {},
   "source": [
    "We will also be using `numpy` *extensively* for efficient number-crunching."
   ]
  },
  {
   "cell_type": "code",
   "execution_count": null,
   "metadata": {},
   "outputs": [],
   "source": [
    "import numpy as np"
   ]
  },
  {
   "cell_type": "code",
   "execution_count": null,
   "metadata": {},
   "outputs": [],
   "source": []
  },
  {
   "attachments": {},
   "cell_type": "markdown",
   "metadata": {},
   "source": [
    "Now let's make a scatter plot."
   ]
  },
  {
   "cell_type": "code",
   "execution_count": null,
   "metadata": {},
   "outputs": [],
   "source": []
  },
  {
   "attachments": {},
   "cell_type": "markdown",
   "metadata": {},
   "source": [
    "There's a lot of scatter here, so let's use a boolean array to select only the data pertaining to June."
   ]
  },
  {
   "cell_type": "code",
   "execution_count": null,
   "metadata": {},
   "outputs": [],
   "source": []
  },
  {
   "attachments": {},
   "cell_type": "markdown",
   "metadata": {},
   "source": [
    "Scatter plots aren't the best way to look at discrete data.  A better tool is a violin plot, which plots a kernel density estimate (basically a smoothed histogram) of the distribution of points within each discrete value.  `seaborn` has a nice implementation of such a plotting routine.  To install this a terminal, activate your conda environment, and run\n",
    "```bash\n",
    "python -m pip install seaborn\n",
    "```"
   ]
  },
  {
   "cell_type": "code",
   "execution_count": null,
   "metadata": {},
   "outputs": [],
   "source": [
    "import seaborn as sns"
   ]
  },
  {
   "cell_type": "code",
   "execution_count": null,
   "metadata": {},
   "outputs": [],
   "source": []
  },
  {
   "cell_type": "markdown",
   "metadata": {},
   "source": [
    "Now let's use some more advanced features of `pandas`.  First we'll group the data entries by year and compute the total number of births each year."
   ]
  },
  {
   "cell_type": "code",
   "execution_count": null,
   "metadata": {},
   "outputs": [],
   "source": []
  },
  {
   "cell_type": "code",
   "execution_count": null,
   "metadata": {},
   "outputs": [],
   "source": []
  },
  {
   "attachments": {},
   "cell_type": "markdown",
   "metadata": {},
   "source": [
    "Now by day of the month."
   ]
  },
  {
   "cell_type": "code",
   "execution_count": null,
   "metadata": {},
   "outputs": [],
   "source": []
  }
 ],
 "metadata": {
  "kernelspec": {
   "display_name": "comp-phys",
   "language": "python",
   "name": "python3"
  },
  "language_info": {
   "codemirror_mode": {
    "name": "ipython",
    "version": 3
   },
   "file_extension": ".py",
   "mimetype": "text/x-python",
   "name": "python",
   "nbconvert_exporter": "python",
   "pygments_lexer": "ipython3",
   "version": "3.11.11"
  },
  "orig_nbformat": 4
 },
 "nbformat": 4,
 "nbformat_minor": 2
}
