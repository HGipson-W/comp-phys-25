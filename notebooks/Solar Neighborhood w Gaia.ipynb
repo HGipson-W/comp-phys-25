{
 "cells": [
  {
   "attachments": {},
   "cell_type": "markdown",
   "id": "molecular-bahrain",
   "metadata": {},
   "source": [
    "# Solar Neighborhood\n",
    "\n",
    "<img src=\"https://upload.wikimedia.org/wikipedia/commons/f/fd/Gaia_observes_the_Milky_Way_ESA24305955.jpeg\" alt=\"Drawing\" style=\"width: 400px;\"/>\n",
    "\n",
    "Let's use [Gaia](https://en.wikipedia.org/wiki/Gaia_(spacecraft)) data to look at the properties of stars in the solar neighborhood.\n",
    "\n",
    "The Gaia Data Release 3 was accompanied by [a paper](https://www.aanda.org/articles/aa/full_html/2018/08/aa32843-18/aa32843-18.html#T2) that makes loads of observational [Hertzsprung-Russell diagrams](https://en.wikipedia.org/wiki/Hertzsprung%E2%80%93Russell_diagram), or \"color-magnitude\" diagrams.  Gaia has been making [stellar parallax](https://en.wikipedia.org/wiki/Parallax) measurments of stars in the Milky Way\n",
    "\n",
    "![stellar parallax](https://upload.wikimedia.org/wikipedia/commons/thumb/3/39/14-104-hubble-parallax.png/520px-14-104-hubble-parallax.png)\n",
    "\n",
    "Measuments of parallax $\\varpi$ in arcseconds observed with a 1 AU baseline can be converted to distances in parsecs as simply $d(\\mathrm{pc}) = 1/\\varpi(\\mathrm{arcsec})$ (it's actually what _defines_ the parsec)."
   ]
  },
  {
   "cell_type": "code",
   "execution_count": 1,
   "id": "future-leisure",
   "metadata": {},
   "outputs": [],
   "source": [
    "import numpy as np\n",
    "import pandas as pd\n",
    "import matplotlib.pyplot as plt"
   ]
  },
  {
   "attachments": {},
   "cell_type": "markdown",
   "id": "distributed-radius",
   "metadata": {},
   "source": [
    "## Query the DR3 Archive\n",
    "\n",
    "We'll be roughly following the [Observational Hertzsprung-Russell diagram](https://www.aanda.org/articles/aa/full_html/2018/08/aa32843-18/aa32843-18.html#app) paper, including their process for grooming the data to remove astrometric noise, imprecise parallax measurements, etc.  For discussion of the filtering process see [Sec. 2.1](https://www.aanda.org/articles/aa/full_html/2018/08/aa32843-18/aa32843-18.html#S2).\n",
    "\n",
    "We can do this with a basic query of the [data archive](https://gea.esac.esa.int/archive/), using the GUI to add each condition.  They have also provided the full query in Appendix B, which we'll adopt here with a few changes:\n",
    "\n",
    "```\n",
    "SELECT TOP 300000 phot_g_mean_mag+5*log10(parallax)-10 AS mg, bp_rp, parallax FROM gaiadr3.gaia_source\n",
    "\n",
    "WHERE parallax_over_error > 10\n",
    "\n",
    "AND parallax > 10\n",
    "\n",
    "AND phot_g_mean_flux_over_error>50\n",
    "\n",
    "AND phot_rp_mean_flux_over_error>20\n",
    "\n",
    "AND phot_bp_mean_flux_over_error>20\n",
    "\n",
    "AND phot_bp_rp_excess_factor < 1.3+0.06*power(phot_bp_mean_mag-phot_rp_mean_mag,2)\n",
    "\n",
    "AND phot_bp_rp_excess_factor > 1.0+0.015*power(phot_bp_mean_mag-phot_rp_mean_mag,2)\n",
    "\n",
    "AND visibility_periods_used>8\n",
    "\n",
    "AND astrometric_chi2_al/(astrometric_n_good_obs_al-5)<1.44*greatest(1,exp(-0.4*(phot_g_mean_mag-19.5)))\n",
    "```\n",
    "\n",
    "which we can paste directly into an advanced query window (BTW, to get a description of each field see the [Gaia data model](https://gea.esac.esa.int/archive/documentation/GEDR3/Gaia_archive/chap_datamodel/sec_dm_main_tables/ssec_dm_gaia_source.html))."
   ]
  },
  {
   "cell_type": "code",
   "execution_count": 2,
   "id": "statewide-powder",
   "metadata": {},
   "outputs": [
    {
     "data": {
      "application/vnd.microsoft.datawrangler.viewer.v0+json": {
       "columns": [
        {
         "name": "index",
         "rawType": "int64",
         "type": "integer"
        },
        {
         "name": "mg",
         "rawType": "float64",
         "type": "float"
        },
        {
         "name": "bp_rp",
         "rawType": "float64",
         "type": "float"
        },
        {
         "name": "parallax",
         "rawType": "float64",
         "type": "float"
        }
       ],
       "conversionMethod": "pd.DataFrame",
       "ref": "22c717a2-8aa8-40b8-99b3-6d9ac97032ca",
       "rows": [
        [
         "0",
         "10.390250107020387",
         "2.7318716",
         "10.000008327879812"
        ],
        [
         "1",
         "8.608481112994635",
         "2.0258188",
         "10.000029388163863"
        ],
        [
         "2",
         "4.267758613278376",
         "0.8808584",
         "10.000031865768984"
        ],
        [
         "3",
         "10.506657640397606",
         "2.6497345",
         "10.000066061888884"
        ],
        [
         "4",
         "12.077941202908434",
         "2.940875",
         "10.00011100322106"
        ],
        [
         "5",
         "9.719225152227889",
         "2.4612255",
         "10.000128388241729"
        ],
        [
         "6",
         "9.937938939232623",
         "2.513341",
         "10.000128510873266"
        ],
        [
         "7",
         "10.24208291801252",
         "2.5735512",
         "10.000128847700896"
        ],
        [
         "8",
         "11.517695009220173",
         "2.8234825",
         "10.000134224034072"
        ],
        [
         "9",
         "1.9789491436571875",
         "0.33607674",
         "10.00013429110453"
        ],
        [
         "10",
         "8.656435154983413",
         "2.125083",
         "10.000136802442896"
        ],
        [
         "11",
         "9.959474022939991",
         "2.5802536",
         "10.000155617356814"
        ],
        [
         "12",
         "8.571586639371034",
         "1.989646",
         "10.000158247608615"
        ],
        [
         "13",
         "8.920663977128942",
         "2.3441334",
         "10.000167551931328"
        ],
        [
         "14",
         "10.09120412720793",
         "2.5407238",
         "10.000217217526297"
        ],
        [
         "15",
         "11.64969451486056",
         "2.9032564",
         "10.00021992613069"
        ],
        [
         "16",
         "6.6543456456933505",
         "1.367096",
         "10.000299262973789"
        ],
        [
         "17",
         "12.315324234661546",
         "3.3254194",
         "10.0003312580692"
        ],
        [
         "18",
         "4.32031126211832",
         "0.7725687",
         "10.000420315932535"
        ],
        [
         "19",
         "9.59899845861434",
         "2.3194838",
         "10.0004409837017"
        ],
        [
         "20",
         "4.634890030713638",
         "0.7642641",
         "10.000485084597802"
        ],
        [
         "21",
         "9.626913463499896",
         "2.4337435",
         "10.000498098488896"
        ],
        [
         "22",
         "12.799610802784528",
         "0.3982525",
         "10.000503743320476"
        ],
        [
         "23",
         "12.627810621928674",
         "3.3713493",
         "10.000505735375716"
        ],
        [
         "24",
         "10.400640407592412",
         "2.5211878",
         "10.000509096756844"
        ],
        [
         "25",
         "11.916895072169536",
         "2.9434452",
         "10.000510199881624"
        ],
        [
         "26",
         "11.082786761658172",
         "3.099681",
         "10.000510393998407"
        ],
        [
         "27",
         "12.1780119103893",
         "3.1192179",
         "10.00051393204616"
        ],
        [
         "28",
         "11.027123808073398",
         "2.82724",
         "10.00051550100368"
        ],
        [
         "29",
         "9.898158291073608",
         "2.6259003",
         "10.00054999649791"
        ],
        [
         "30",
         "7.892190014333487",
         "1.802577",
         "10.000571114705792"
        ],
        [
         "31",
         "9.289990437039773",
         "2.877719",
         "10.00059296991066"
        ],
        [
         "32",
         "6.1178357985335765",
         "1.1589804",
         "10.00060517015851"
        ],
        [
         "33",
         "12.686199637575536",
         "0.18853569",
         "10.000625729096669"
        ],
        [
         "34",
         "11.066403775733122",
         "2.8528252",
         "10.000629832962828"
        ],
        [
         "35",
         "4.937096227826014",
         "0.79709244",
         "10.000630749357803"
        ],
        [
         "36",
         "7.833339883000246",
         "1.8069601",
         "10.00063332738578"
        ],
        [
         "37",
         "3.7565875982170738",
         "0.6341305",
         "10.000648244020226"
        ],
        [
         "38",
         "13.144748310711773",
         "0.5280094",
         "10.000648275928258"
        ],
        [
         "39",
         "8.567646445523078",
         "2.103486",
         "10.000678294372491"
        ],
        [
         "40",
         "10.804420827804314",
         "2.7048664",
         "10.000691183855842"
        ],
        [
         "41",
         "11.206840876686186",
         "3.1450586",
         "10.00070438300808"
        ],
        [
         "42",
         "8.210965519559213",
         "2.03551",
         "10.000730742593127"
        ],
        [
         "43",
         "8.145296675404659",
         "1.8887386",
         "10.000736127690038"
        ],
        [
         "44",
         "12.642809917012038",
         "3.4657555",
         "10.000742473618033"
        ],
        [
         "45",
         "9.89510974371798",
         "2.4517202",
         "10.000753643270173"
        ],
        [
         "46",
         "11.107505509029776",
         "2.760601",
         "10.000754091304152"
        ],
        [
         "47",
         "10.175104738608091",
         "2.4641",
         "10.000758174938133"
        ],
        [
         "48",
         "11.105488423524534",
         "2.7765293",
         "10.000758187213986"
        ],
        [
         "49",
         "3.2378608972189475",
         "0.8159838",
         "10.000773994527352"
        ]
       ],
       "shape": {
        "columns": 3,
        "rows": 227629
       }
      },
      "text/html": [
       "<div>\n",
       "<style scoped>\n",
       "    .dataframe tbody tr th:only-of-type {\n",
       "        vertical-align: middle;\n",
       "    }\n",
       "\n",
       "    .dataframe tbody tr th {\n",
       "        vertical-align: top;\n",
       "    }\n",
       "\n",
       "    .dataframe thead th {\n",
       "        text-align: right;\n",
       "    }\n",
       "</style>\n",
       "<table border=\"1\" class=\"dataframe\">\n",
       "  <thead>\n",
       "    <tr style=\"text-align: right;\">\n",
       "      <th></th>\n",
       "      <th>mg</th>\n",
       "      <th>bp_rp</th>\n",
       "      <th>parallax</th>\n",
       "    </tr>\n",
       "  </thead>\n",
       "  <tbody>\n",
       "    <tr>\n",
       "      <th>0</th>\n",
       "      <td>10.390250</td>\n",
       "      <td>2.731872</td>\n",
       "      <td>10.000008</td>\n",
       "    </tr>\n",
       "    <tr>\n",
       "      <th>1</th>\n",
       "      <td>8.608481</td>\n",
       "      <td>2.025819</td>\n",
       "      <td>10.000029</td>\n",
       "    </tr>\n",
       "    <tr>\n",
       "      <th>2</th>\n",
       "      <td>4.267759</td>\n",
       "      <td>0.880858</td>\n",
       "      <td>10.000032</td>\n",
       "    </tr>\n",
       "    <tr>\n",
       "      <th>3</th>\n",
       "      <td>10.506658</td>\n",
       "      <td>2.649735</td>\n",
       "      <td>10.000066</td>\n",
       "    </tr>\n",
       "    <tr>\n",
       "      <th>4</th>\n",
       "      <td>12.077941</td>\n",
       "      <td>2.940875</td>\n",
       "      <td>10.000111</td>\n",
       "    </tr>\n",
       "    <tr>\n",
       "      <th>...</th>\n",
       "      <td>...</td>\n",
       "      <td>...</td>\n",
       "      <td>...</td>\n",
       "    </tr>\n",
       "    <tr>\n",
       "      <th>227624</th>\n",
       "      <td>11.758283</td>\n",
       "      <td>2.834036</td>\n",
       "      <td>336.026602</td>\n",
       "    </tr>\n",
       "    <tr>\n",
       "      <th>227625</th>\n",
       "      <td>9.521769</td>\n",
       "      <td>2.215609</td>\n",
       "      <td>392.752945</td>\n",
       "    </tr>\n",
       "    <tr>\n",
       "      <th>227626</th>\n",
       "      <td>14.129570</td>\n",
       "      <td>4.184836</td>\n",
       "      <td>415.179416</td>\n",
       "    </tr>\n",
       "    <tr>\n",
       "      <th>227627</th>\n",
       "      <td>11.883816</td>\n",
       "      <td>2.833697</td>\n",
       "      <td>546.975940</td>\n",
       "    </tr>\n",
       "    <tr>\n",
       "      <th>227628</th>\n",
       "      <td>13.411743</td>\n",
       "      <td>3.804580</td>\n",
       "      <td>768.066539</td>\n",
       "    </tr>\n",
       "  </tbody>\n",
       "</table>\n",
       "<p>227629 rows × 3 columns</p>\n",
       "</div>"
      ],
      "text/plain": [
       "               mg     bp_rp    parallax\n",
       "0       10.390250  2.731872   10.000008\n",
       "1        8.608481  2.025819   10.000029\n",
       "2        4.267759  0.880858   10.000032\n",
       "3       10.506658  2.649735   10.000066\n",
       "4       12.077941  2.940875   10.000111\n",
       "...           ...       ...         ...\n",
       "227624  11.758283  2.834036  336.026602\n",
       "227625   9.521769  2.215609  392.752945\n",
       "227626  14.129570  4.184836  415.179416\n",
       "227627  11.883816  2.833697  546.975940\n",
       "227628  13.411743  3.804580  768.066539\n",
       "\n",
       "[227629 rows x 3 columns]"
      ]
     },
     "execution_count": 2,
     "metadata": {},
     "output_type": "execute_result"
    }
   ],
   "source": [
    "df = pd.read_csv('../data/gaiadr3_solar_neighborhood.csv')\n",
    "df"
   ]
  },
  {
   "cell_type": "markdown",
   "id": "certified-lending",
   "metadata": {},
   "source": [
    "Here we have Gaia observations of a little over $2\\times 10^5$ stars in the stellar neighborhood.  For each we have the parallax (reciprocal of the distance, remember), along with some magnitudes that we'll talk about more in a bit.\n",
    "\n",
    "First let's make a simple histogram of the parallax measurements."
   ]
  },
  {
   "cell_type": "code",
   "execution_count": 3,
   "id": "brazilian-nancy",
   "metadata": {},
   "outputs": [
    {
     "data": {
      "image/png": "[encoded data removed]",
      "text/plain": [
       "<Figure size 640x480 with 1 Axes>"
      ]
     },
     "metadata": {},
     "output_type": "display_data"
    }
   ],
   "source": [
    "plt.hist(df['parallax'], bins=50);\n",
    "plt.xlabel(r'$\\varpi$ (mas)')\n",
    "plt.ylabel(\"# stars\");"
   ]
  },
  {
   "cell_type": "markdown",
   "id": "arranged-criticism",
   "metadata": {},
   "source": [
    "Now distances."
   ]
  },
  {
   "cell_type": "code",
   "execution_count": 4,
   "id": "fuzzy-sister",
   "metadata": {},
   "outputs": [
    {
     "data": {
      "image/png": "[encoded data removed]",
      "text/plain": [
       "<Figure size 640x480 with 1 Axes>"
      ]
     },
     "metadata": {},
     "output_type": "display_data"
    }
   ],
   "source": [
    "counts, bins, _ = plt.hist(1/df.parallax, bins=50)\n",
    "plt.xlabel('distance (kpc)')\n",
    "plt.ylabel(\"# stars\");\n",
    "# plt.plot(bins, 1.2e6*bins**2);"
   ]
  },
  {
   "cell_type": "markdown",
   "id": "federal-lodging",
   "metadata": {},
   "source": [
    "That looks mighty power-law-like.  Let's look a little closer."
   ]
  },
  {
   "cell_type": "code",
   "execution_count": null,
   "id": "pacific-command",
   "metadata": {},
   "outputs": [],
   "source": [
    "_\n",
    "plt.xlabel(r'log$_{10}$ (distance (kpc))')\n",
    "plt.ylabel(\"# stars\");"
   ]
  },
  {
   "cell_type": "markdown",
   "id": "warming-cherry",
   "metadata": {},
   "source": [
    "Our bin heights provide an estimate of the stellar number density as a function of distance from the Sun.  Consider a spherical shell with thickness $dr$ at distance $r$.  If we assume the stellar density $\\rho$ is constant, then the number of stars in that spherical shell $dN$ should be:\n",
    "\n",
    "$$\n",
    "dN = 4\\pi r^2 \\rho dr\n",
    "$$\n",
    "\n",
    "Each bin of our histogram corresponds to such a spherical shell, so dividing our bin heights (i.e., counts) by the bin width $dr$\n",
    "\n",
    "$$\n",
    "dN/dr = 4 \\pi r^2 \\rho\n",
    "$$"
   ]
  },
  {
   "cell_type": "code",
   "execution_count": null,
   "id": "equipped-forward",
   "metadata": {},
   "outputs": [],
   "source": [
    "dNdr = _\n",
    "\n",
    "plt.plot(rs, dNdr)\n",
    "plt.xlabel('distance (kpc)')\n",
    "plt.ylabel(r'dN/dr (kpc$^{-1}$)');"
   ]
  },
  {
   "cell_type": "markdown",
   "id": "oriented-diagnosis",
   "metadata": {},
   "source": [
    "If we assume that we have a \"complete catalog\" out to our maximum distance then we can calculate the average stellar density in the solar neighborhood."
   ]
  },
  {
   "cell_type": "code",
   "execution_count": null,
   "id": "educational-installation",
   "metadata": {},
   "outputs": [],
   "source": []
  },
  {
   "cell_type": "markdown",
   "id": "recent-burning",
   "metadata": {},
   "source": [
    "Or, in parsecs..."
   ]
  },
  {
   "cell_type": "code",
   "execution_count": null,
   "id": "tribal-compact",
   "metadata": {},
   "outputs": [],
   "source": []
  },
  {
   "attachments": {},
   "cell_type": "markdown",
   "id": "00fb011b",
   "metadata": {},
   "source": [
    "## HR Diagram\n",
    "\n",
    "Now let's make our color-magnitude diagram.  For this we need brightness on the y-axis, for which we'll use the total $G$-band magnitude (higher magnitudes are fainter).  On the x-axis we need \"color\".  We'll be using the diffence in magnitudes when observing with a blue filter ($G_\\mathrm{BP}$) and red filter ($G_\\mathrm{RP}$).  To give you a sense of what these quantities are, the pass bands for all three filters are shown below.\n",
    "\n",
    "<img src=\"https://www.cosmos.esa.int/documents/29201/1645651/GaiaDR2Passbands.png/ba8d3078-0e7a-b316-92d9-cdce748e6484?t=1521129245183\" width=\"500\"/>"
   ]
  },
  {
   "cell_type": "code",
   "execution_count": null,
   "id": "451c0269",
   "metadata": {},
   "outputs": [],
   "source": [
    "_\n",
    "plt.gca().invert_yaxis()\n",
    "plt.xlabel(r\"$G_\\mathrm{BP} - G_\\mathrm{RP}$\")\n",
    "plt.ylabel(r\"$M_G$\")\n",
    "# save limits for later use\n",
    "xlim = plt.xlim()\n",
    "ylim = plt.ylim()"
   ]
  },
  {
   "attachments": {},
   "cell_type": "markdown",
   "id": "a1ae1c93",
   "metadata": {},
   "source": [
    "That's a _lot_ of data.\n",
    "\n",
    "Compare this to the following diagram to get a sense of what the features correspond to.\n",
    "\n",
    "<img src=\"https://upload.wikimedia.org/wikipedia/commons/thumb/6/6b/HRDiagram.png/526px-HRDiagram.png\" width=\"500\"/>"
   ]
  },
  {
   "attachments": {},
   "cell_type": "markdown",
   "id": "a032df7f",
   "metadata": {},
   "source": [
    "# Density Plots\n",
    "\n",
    "It's difficult to see what's going on in the high density regions, so let's work on a density plot.  For this we'll using a Gaussian Kernel Density Estimate (KDE).  Think of this like throughing a little Gaussian distribution down on each data point and adding all of them up to get a smooth estimate of the density of points\n",
    "\n",
    "<img src=\"https://upload.wikimedia.org/wikipedia/commons/thumb/4/41/Comparison_of_1D_histogram_and_KDE.png/500px-Comparison_of_1D_histogram_and_KDE.png\" width=\"500\"/>"
   ]
  },
  {
   "cell_type": "code",
   "execution_count": null,
   "id": "ee8f8f57",
   "metadata": {},
   "outputs": [],
   "source": [
    "from scipy.stats import gaussian_kde"
   ]
  },
  {
   "attachments": {},
   "cell_type": "markdown",
   "id": "b7eda395",
   "metadata": {},
   "source": [
    "$2\\times 10^5$ is a lot of Gaussians to evaluate, so let's reduce our data set by looking at only the stars within 25 pc ($\\varpi > 40$ mas)."
   ]
  },
  {
   "cell_type": "code",
   "execution_count": null,
   "id": "2959f7f3",
   "metadata": {},
   "outputs": [],
   "source": []
  },
  {
   "cell_type": "code",
   "execution_count": null,
   "id": "b8399ef6",
   "metadata": {},
   "outputs": [],
   "source": [
    "_\n",
    "plt.gca().invert_yaxis()\n",
    "plt.title(r'$\\varpi > 40$ mas')\n",
    "plt.xlabel(r\"$G_\\mathrm{BP} - G_\\mathrm{RP}$\")\n",
    "plt.ylabel(r\"$M_G$\")\n",
    "# # save limits for later use\n",
    "xlim = plt.xlim()\n",
    "ylim = plt.ylim()"
   ]
  },
  {
   "attachments": {},
   "cell_type": "markdown",
   "id": "7fa046e3",
   "metadata": {},
   "source": [
    "Now let's build our KDE"
   ]
  },
  {
   "cell_type": "code",
   "execution_count": null,
   "id": "1f6ea29d",
   "metadata": {},
   "outputs": [],
   "source": []
  },
  {
   "attachments": {},
   "cell_type": "markdown",
   "id": "82d6249e",
   "metadata": {},
   "source": [
    "and evaluate it on a 2-D grid."
   ]
  },
  {
   "cell_type": "code",
   "execution_count": null,
   "id": "38b9cb9c",
   "metadata": {},
   "outputs": [],
   "source": []
  },
  {
   "attachments": {},
   "cell_type": "markdown",
   "id": "fa8af8fc",
   "metadata": {},
   "source": [
    "Finally, let's plot it."
   ]
  },
  {
   "cell_type": "code",
   "execution_count": null,
   "id": "9a0e9d3d",
   "metadata": {},
   "outputs": [],
   "source": [
    "_\n",
    "plt.gca().invert_yaxis()\n",
    "plt.xlabel(r\"$G_\\mathrm{BP} - G_\\mathrm{RP}$\")\n",
    "plt.ylabel(r\"$M_G$\");"
   ]
  },
  {
   "cell_type": "code",
   "execution_count": null,
   "id": "72a19182",
   "metadata": {},
   "outputs": [],
   "source": []
  }
 ],
 "metadata": {
  "kernelspec": {
   "display_name": "comp-phys",
   "language": "python",
   "name": "python3"
  },
  "language_info": {
   "codemirror_mode": {
    "name": "ipython",
    "version": 3
   },
   "file_extension": ".py",
   "mimetype": "text/x-python",
   "name": "python",
   "nbconvert_exporter": "python",
   "pygments_lexer": "ipython3",
   "version": "3.11.11"
  }
 },
 "nbformat": 4,
 "nbformat_minor": 5
}
